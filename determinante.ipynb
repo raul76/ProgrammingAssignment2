{
 "cells": [
  {
   "cell_type": "markdown",
   "metadata": {},
   "source": [
    "# El determinante calculado de forma recursiva"
   ]
  },
  {
   "cell_type": "markdown",
   "metadata": {},
   "source": [
    "Cargamos las librerías necesarias para trabajar con matrices"
   ]
  },
  {
   "cell_type": "code",
   "execution_count": 78,
   "metadata": {
    "collapsed": true
   },
   "outputs": [],
   "source": [
    "from sympy import Matrix, randMatrix, pprint\n",
    "\n",
    "def det(M):\n",
    "    \"\"\"Calcula el determinante de la matriz M (el método está optimizado calculando la RREF primero)\"\"\"\n",
    "    return M.det()\n",
    "\n",
    "def matriz(n):\n",
    "    \"\"\"Devuelve una matrix n x n con entradas enteras entre -9 y 9\"\"\"\n",
    "    return randMatrix(n,n,-9,9)"
   ]
  },
  {
   "cell_type": "markdown",
   "metadata": {},
   "source": [
    "Ahora creamos una matriz aleatoria n x n con entradas enteras entre -9 y 9 para hacer nuestro test. Por defecto n=9 pero puede cambiarse en la celda."
   ]
  },
  {
   "cell_type": "code",
   "execution_count": 79,
   "metadata": {
    "collapsed": false,
    "scrolled": false
   },
   "outputs": [
    {
     "name": "stdout",
     "output_type": "stream",
     "text": [
      "⎡-7  2   -9  -8  -9  9   0   8 ⎤\n",
      "⎢                              ⎥\n",
      "⎢1   5   8   -9  3   -2  -4  -4⎥\n",
      "⎢                              ⎥\n",
      "⎢-8  5   1   -8  0   2   -1  9 ⎥\n",
      "⎢                              ⎥\n",
      "⎢7   1   9   4   8   -6  -3  -1⎥\n",
      "⎢                              ⎥\n",
      "⎢3   -6  -1  -3  -9  5   0   7 ⎥\n",
      "⎢                              ⎥\n",
      "⎢9   4   7   8   6   -8  2   -1⎥\n",
      "⎢                              ⎥\n",
      "⎢6   -7  9   7   1   -8  -1  6 ⎥\n",
      "⎢                              ⎥\n",
      "⎣-2  2   3   -3  -8  4   4   6 ⎦\n"
     ]
    }
   ],
   "source": [
    "n = 8\n",
    "M = matriz(n)\n",
    "pprint(M)"
   ]
  },
  {
   "cell_type": "markdown",
   "metadata": {},
   "source": [
    "Vamos a probar el tiempo que se tarda al calcular el determinante con el método de Gauss (optimizado, pues primero calcula la RREF(M)). El prefijo <code>%time</code>\n",
    "simplemente le dice a Python que cronometre el tiempo de ejecución del comando."
   ]
  },
  {
   "cell_type": "code",
   "execution_count": 80,
   "metadata": {
    "collapsed": false
   },
   "outputs": [
    {
     "name": "stdout",
     "output_type": "stream",
     "text": [
      "CPU times: user 24.4 ms, sys: 2 µs, total: 24.4 ms\n",
      "Wall time: 23.7 ms\n"
     ]
    },
    {
     "data": {
      "text/plain": [
       "-13855676"
      ]
     },
     "execution_count": 80,
     "metadata": {},
     "output_type": "execute_result"
    }
   ],
   "source": [
    "%time det(M)"
   ]
  },
  {
   "cell_type": "markdown",
   "metadata": {},
   "source": [
    "Ahora vamos a calcular el mismo determinante por la definición recurrente, para ello cargamos el programa det_clasico y una subrutina para calcular la submatriz $M_{ij}$ de la matriz $M$."
   ]
  },
  {
   "cell_type": "code",
   "execution_count": 81,
   "metadata": {
    "collapsed": false
   },
   "outputs": [],
   "source": [
    "def submatriz(M, i, j):\n",
    "    \"\"\"Calcula la submatriz M_ij de la matriz M resultado de eliminar la fila i y la columna j\"\"\"\n",
    "    idx, idy = list(range(M.rows)), list(range(M.cols))\n",
    "    idx.remove(i)\n",
    "    idy.remove(j)\n",
    "    return M[idx,idy]\n",
    "\n",
    "def det_clasico(M, fila = 0, nrecur = [0]):\n",
    "    \"\"\"Calcula el determinante desarrollándolo por la primera fila (por defecto)\"\"\"\n",
    "    \n",
    "    # Esta parte es para ver que el programa no se ha quedado colgado cuando tarda mucho.\n",
    "    nrecur[0] += 1\n",
    "    if nrecur[0] % 100000 == 0:\n",
    "        print(\"Realizando la llamada a det_clasico número:\", nrecur[0])\n",
    "    \n",
    "    # Aquí empieza el programa propiamente dicho, si no es 1x1 desarrollamos y si lo es el determinante es ese valor.\n",
    "    if M.rows != 1:\n",
    "        result = 0\n",
    "        for col in range(M.cols):\n",
    "            if M[fila,col] != 0:  # Si M[fila,col]=0 evitamos recursiones innecesarias\n",
    "                result += M[fila,col] * (-1)**(fila + col) * det_clasico(submatriz(M,fila,col), fila, nrecur)\n",
    "    else:\n",
    "        result = M[0,0]\n",
    "    return result\n",
    "            \n",
    "    "
   ]
  },
  {
   "cell_type": "code",
   "execution_count": 82,
   "metadata": {
    "collapsed": false
   },
   "outputs": [
    {
     "name": "stdout",
     "output_type": "stream",
     "text": [
      "CPU times: user 2.82 s, sys: 3.97 ms, total: 2.82 s\n",
      "Wall time: 2.82 s\n"
     ]
    },
    {
     "data": {
      "text/plain": [
       "-13855676"
      ]
     },
     "execution_count": 82,
     "metadata": {},
     "output_type": "execute_result"
    }
   ],
   "source": [
    "%time det_clasico(M)"
   ]
  },
  {
   "cell_type": "markdown",
   "metadata": {},
   "source": [
    "Ahora vuelve a ejecutar esta hoja con $n=9$ que tardará entre medio minuto y dos minutos, y luego ¡con calma! usa por ejemplo $n=12$ y espera... (no hace falta ejecutar todas las celdas, ya se han cargado las funciones pero ante la duda ejecuta todas)."
   ]
  }
 ],
 "metadata": {
  "kernelspec": {
   "display_name": "Python 3",
   "language": "python",
   "name": "python3"
  },
  "language_info": {
   "codemirror_mode": {
    "name": "ipython",
    "version": 3
   },
   "file_extension": ".py",
   "mimetype": "text/x-python",
   "name": "python",
   "nbconvert_exporter": "python",
   "pygments_lexer": "ipython3",
   "version": "3.6.0"
  }
 },
 "nbformat": 4,
 "nbformat_minor": 2
}
